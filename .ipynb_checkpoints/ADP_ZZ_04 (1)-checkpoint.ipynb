{
 "cells": [
  {
   "cell_type": "markdown",
   "id": "639b058e",
   "metadata": {
    "deletable": false,
    "editable": false,
    "nbgrader": {
     "cell_type": "markdown",
     "checksum": "a4d572b9cb35f7417343f3db3cd5a898",
     "grade": false,
     "grade_id": "cell-fcd2666579131b77",
     "locked": true,
     "schema_version": 3,
     "solution": false,
     "task": false
    },
    "tags": []
   },
   "source": [
    "# Analiza danych przestrzennych - ćwiczenia laboratoryjne 2022/2023\n",
    "\n",
    "Ten notatnik zalicza się do grupy zestawów zadań, na podstawie których odbywa się zaliczenie ćwiczeń i podlega zwrotowi do oceny w ustalonym na zajęciach terminie.\n",
    "\n",
    "Uwagi ogólne:\n",
    "- Podczas wykonywania zadań należy korzystać wyłącznie z pakietów zaimportowanych na początku notatnika oraz z pakietów wchodzących w skład standardowej biblioteki Pythona, które można zaimportować samodzielnie we wskazanej komórce.\n",
    "- Swoje rozwiązania należy wprowadzać wyłącznie w miejce następujących fragmentów kodu:<br/> ` # YOUR CODE HERE`<br/> ` raise NotImplementedError()`<br/> Nie należy w żaden sposób modyfikować pozostałych fragmentów kodu oraz elementów notatnika, w szczególności dodawać lub usuwać komórek oraz zmieniać nazwy pliku.\n",
    "- Jeżeli zestaw zadań wymaga skorzystania z funkcji przygotowanych w ramach wcześniejszych zestawów zadań należy je umieścić we wskazanej komórce.\n",
    "- Wszystkie wykresy powinny być wykonane w jednolitym, przejrzystym i czytelnym stylu, mieć nadane tytuły, opisane osie oraz odpowiednio dobrany rozmiar, wielkość punktów i grubość linii. Proporcje osi wykresów przedstawiających rozkłady punktów powinny być dobrane tak, aby wykresy odzwierciedlały rzeczywisty rozkład punktów w przestrzeni.\n",
    "- Zadania, które powodują wyświetlenie komunikatu o błędzie przerywającym wykonywanie kodu nie podlegają ocenie.\n",
    "\n",
    "Przed odesłaniem zestawu zadań do oceny proszę uzupełnić komórkę z danymi autorów rozwiązania (`NAME` - nazwa grupy, `COLLABORATORS` - imiona, nazwiska i numery indeksów członków grupy) oraz upewnić się, że notatnik działa zgodnie z oczekiwaniami. W tym celu należy skorzystać z opcji **Restart Kernel and Run All Cells...** dostępnej na górnej belce notatnika pod symbolem $\\blacktriangleright\\blacktriangleright$. "
   ]
  },
  {
   "cell_type": "code",
   "execution_count": 1,
   "id": "72da84bf",
   "metadata": {},
   "outputs": [],
   "source": [
    "NAME = \"\"\n",
    "COLLABORATORS = \"\""
   ]
  },
  {
   "cell_type": "markdown",
   "id": "38549e30",
   "metadata": {
    "deletable": false,
    "editable": false,
    "nbgrader": {
     "cell_type": "markdown",
     "checksum": "eddc8826810e4a6f7bf68319da334bd9",
     "grade": false,
     "grade_id": "cell-109006d425e5cf83",
     "locked": true,
     "schema_version": 3,
     "solution": false,
     "task": false
    },
    "tags": []
   },
   "source": [
    "---"
   ]
  },
  {
   "cell_type": "markdown",
   "id": "28276681-0950-4312-92cb-792a97f88e2b",
   "metadata": {
    "deletable": false,
    "editable": false,
    "nbgrader": {
     "cell_type": "markdown",
     "checksum": "ecc0c5f5dd57add592643dda2b79b3bf",
     "grade": false,
     "grade_id": "cell-1f33a09e5146ecbe",
     "locked": true,
     "schema_version": 3,
     "solution": false,
     "task": false
    },
    "tags": []
   },
   "source": [
    "## Zestaw zadań 4: Badanie relacji między punktami (część 1)"
   ]
  },
  {
   "cell_type": "code",
   "execution_count": 2,
   "id": "560aae70-e3b4-4a1a-961f-54eebe9922ec",
   "metadata": {
    "deletable": false,
    "editable": false,
    "nbgrader": {
     "cell_type": "code",
     "checksum": "31642740d59cb98672cfd1ca55108013",
     "grade": false,
     "grade_id": "cell-ecd0d56207650fc3",
     "locked": true,
     "schema_version": 3,
     "solution": false,
     "task": false
    },
    "tags": []
   },
   "outputs": [],
   "source": [
    "import numpy as np\n",
    "import pandas as pd\n",
    "import scipy as sp\n",
    "import matplotlib as mpl\n",
    "import matplotlib.pyplot as plt\n",
    "import seaborn as sns"
   ]
  },
  {
   "cell_type": "code",
   "execution_count": 3,
   "id": "85336381-f0de-4bb0-bbd0-d0849707ed38",
   "metadata": {
    "tags": []
   },
   "outputs": [],
   "source": [
    "# Miejsce do importu pakietów wchodzących w skład standardowej biblioteki Pythona oraz ustawienie opcji wykorzystywanych pakietów\n",
    "sns.set() \n",
    "sns.set_theme(style=\"whitegrid\")"
   ]
  },
  {
   "cell_type": "code",
   "execution_count": 30,
   "id": "7ece9eb9-c0d1-479e-bbc2-eddadcef70b5",
   "metadata": {
    "deletable": false,
    "nbgrader": {
     "cell_type": "code",
     "checksum": "a483085d48433d55febe96f376d34572",
     "grade": true,
     "grade_id": "cell-885489b562915779",
     "locked": false,
     "points": 0,
     "schema_version": 3,
     "solution": true,
     "task": false
    },
    "tags": []
   },
   "outputs": [],
   "source": [
    "# Miejsce do wklejenie funkcji ze wcześniejszych zestawów zadań\n",
    "# YOUR CODE HERE\n",
    "HP = pd.read_csv('dane_tymczasowe_HP4.csv')\n",
    "R = pd.read_csv('dane_tymczasowe_R4.csv')\n",
    "M = pd.read_csv('dane_tymczasowe_M4.csv')\n",
    "def point_count_on_subregions(points, bins, x_lim, y_lim):\n",
    "    \"\"\"\n",
    "    Parameters\n",
    "    -------\n",
    "    points: DataFrame\n",
    "        Tablica zawierająca dwie kolumny ze współrzędnymi punktów opisane jako \"X\" i \"Y\".\n",
    "    bins: list\n",
    "        Lista określająca liczbę podobszarów w poziomie i pionie.\n",
    "        Przykład: [10, 10]\n",
    "    x_lim: list\n",
    "        Lista określająca zakres wartości współrzędnej X.\n",
    "        Przykład: [0, 10]\n",
    "    y_lim: list\n",
    "        Lista określająca zakres wartości współrzędnej Y.\n",
    "        Przykład: [0, 10]   \n",
    "\n",
    "    Returns\n",
    "    -------\n",
    "    bin_data: list\n",
    "        Lista zawierająca trzy macierze:\n",
    "        - 1D ze współrzędnymi krawędzi podobszarów na osi X,\n",
    "        - 1D ze współrzędnymi krawędzi podobszarów na osi Y,\n",
    "        - 2D z liczbą punków przypisanych do każdego z podobszarów.\n",
    "        Na przykład: [array([0, 1, 2]), array([0, 1, 2]), array([[7, 2], [4, 5]])]\n",
    "    \"\"\"\n",
    "    # YOUR CODE HERE\n",
    "    wynik = np.histogram2d(points['X'], points['Y'], bins, [x_lim, y_lim])\n",
    "    wynik_l = list(wynik)\n",
    "    bin_data = [np.transpose(wynik_l[0]), wynik_l[1], np.transpose(wynik_l[2])]\n",
    "    return bin_data\n",
    "#raise NotImplementedError()"
   ]
  },
  {
   "cell_type": "markdown",
   "id": "f4cd1f64-87d1-4158-acc2-bc3c5929a5bb",
   "metadata": {
    "deletable": false,
    "editable": false,
    "nbgrader": {
     "cell_type": "markdown",
     "checksum": "f0d99eb14a78a802fa63941ab9429e25",
     "grade": false,
     "grade_id": "cell-f2afbf273f0dc494",
     "locked": true,
     "schema_version": 3,
     "solution": false,
     "task": false
    },
    "tags": []
   },
   "source": [
    "### Przygotowanie danych (5 pkt)\n",
    "\n",
    "Korzystając z funkcji przygotowanych w ramach pierwszego zestawu zadań wygeneruj rozkłady punktowe o podanych paramatrach.\n",
    "\n",
    "Jednorodny rozkład Poissona:\n",
    " - intensywność procesu: 2.5\n",
    "\n",
    "Rozkład regularny z komponentem losowym:\n",
    "- liczba punktów w poziomie i w pionie: 15x15\n",
    "- komponent losowy: 0.75\n",
    "\n",
    "Rozkład Materna:\n",
    " - intensywność procesu macierzystego: 0.3\n",
    " - intensywność procesu potomnego: 5\n",
    " - promień klastra: 0.75\n",
    " \n",
    "Parametry identyczne dla wszystkich rozkładów:\n",
    " - zakres wartości współrzędnej x: [0, 10]\n",
    " - zakres wartości współrzędnej y: [0, 10]"
   ]
  },
  {
   "cell_type": "code",
   "execution_count": 31,
   "id": "5bdc9df9-80a1-45fe-a3e0-bcc9a3268595",
   "metadata": {
    "deletable": false,
    "nbgrader": {
     "cell_type": "code",
     "checksum": "bccf86a70913f88bd4ec05e16ef5717e",
     "grade": true,
     "grade_id": "cell-ade1720260927626",
     "locked": false,
     "points": 5,
     "schema_version": 3,
     "solution": true,
     "task": false
    },
    "tags": []
   },
   "outputs": [],
   "source": [
    "# YOUR CODE HERE\n",
    "#raise NotImplementedError()"
   ]
  },
  {
   "cell_type": "markdown",
   "id": "e8a75976-cb9d-4da6-b501-73a9f60bfb6a",
   "metadata": {
    "deletable": false,
    "editable": false,
    "nbgrader": {
     "cell_type": "markdown",
     "checksum": "5e4f610a4cb0adb338e072a24b084751",
     "grade": false,
     "grade_id": "cell-cf8e2b1190d2c9a6",
     "locked": true,
     "schema_version": 3,
     "solution": false,
     "task": false
    },
    "tags": []
   },
   "source": [
    "### Zadanie 1: Wykres Morishity (25 pkt)\n",
    "\n",
    "Przygotuj funkcję `morishita_plot_data()`, która będzie generować dane niezbędne do wykonania wykresu Morishity. \n",
    "\n",
    "Następnie wykorzystaj przygotowaną funkcję do wygnenerowania danych dla wszystkich przygotowanych rozkładów punktów. Wykonaj obliczenia dla obszaru podzielonego na 2x2, 3x3, ... 40x40 podobszarów w poziomie i w pionie.\n",
    "\n",
    "Przedstaw wyniki analizy graficznie w postaci wykresów punktówych zestawionych z rozkładami punktów na podstawie których zostały wykonane. Zestaw wyniki na pojedynczej figurze (siatka wykresów 2x3). Umieść analizowane rozkłady punktów w górnym wierszu, a wykresy Morishity w dolnym wierszu figury.\n",
    "\n",
    "Algorytm postępowania:\n",
    "1. Kolejno dzielimy obszar na rosnącą lub malejącą liczbę kwadratowych podobszarów.\n",
    "2. Dla każdego z podziałów obliczamy wartość indeksu: <br/>\n",
    "$MI = L \\sum_{i=1}^L \\frac{n_i (n_i-1)}{N(N-1)}$ <br/>\n",
    "gdzie: $L$ - liczba podobszarów, $N$ - liczba punktów, $n_i$ - liczba punktów w obrębie i-tego podobszaru.\n",
    "3. Zestawiamy w tabeli długości boków podobszarów w poszczególnych podziałach z obliczonymi dla nich wartości indeksu $MI$."
   ]
  },
  {
   "cell_type": "markdown",
   "id": "f5e76302-a74f-4232-a713-e522e1553861",
   "metadata": {
    "deletable": false,
    "editable": false,
    "nbgrader": {
     "cell_type": "markdown",
     "checksum": "2af9f2874b81554258b2ac57538e46c9",
     "grade": false,
     "grade_id": "cell-3bd38731291da2b7",
     "locked": true,
     "schema_version": 3,
     "solution": false,
     "task": false
    },
    "tags": []
   },
   "source": [
    "#### a) Przygotowanie funkcji"
   ]
  },
  {
   "cell_type": "code",
   "execution_count": 32,
   "id": "cf751bf0-f36a-4377-b6cc-a259336a5b4a",
   "metadata": {
    "deletable": false,
    "nbgrader": {
     "cell_type": "code",
     "checksum": "ad27b5bc3c28c0eeb12bfe355976ccb4",
     "grade": true,
     "grade_id": "cell-357a2ee8390da86b",
     "locked": false,
     "points": 15,
     "schema_version": 3,
     "solution": true,
     "task": false
    },
    "tags": []
   },
   "outputs": [],
   "source": [
    "def morishita_plot_data(points, bins_list, x_lim, y_lim):\n",
    "    \"\"\"\n",
    "    Parameters\n",
    "    -------\n",
    "    points: DataFrame\n",
    "        Tablica zawierająca dwie kolumny ze współrzędnymi punktów opisane jako \"X\" i \"Y\".\n",
    "    bins_list: list\n",
    "        Lista zawierająca wszystkie zestawy parametrów określających liczbę podobszarów w poziomie i pionie, dla których mają zostać przeprowadzone obliczenia.\n",
    "        Przykład: [[2, 2], [4, 4], [8, 8], [16, 16]]\n",
    "    x_lim: list\n",
    "        Lista określająca zakres wartości współrzędnej X.\n",
    "        Przykład: [0, 10]\n",
    "    y_lim: list\n",
    "        Lista określająca zakres wartości współrzędnej Y.\n",
    "        Przykład: [0, 10] \n",
    "    \n",
    "    Returns\n",
    "    -------\n",
    "    morishita_index: DataFrame\n",
    "        Tablica zawierająca dwie kolumny:\n",
    "        - \"BD\" - długości boków podobszarów,\n",
    "        - \"MI\" - wyliczone wartości indeksów MI.\n",
    "    \"\"\"\n",
    "    # YOUR CODE HERE\n",
    "    pole = (x_lim[1] - x_lim[0]) * (y_lim[1] - y_lim[0])\n",
    "    zakres = len(bins_list)\n",
    "    tab = np.array([])\n",
    "    for i in range(zakres):\n",
    "        pierw = np.sqrt(pole/(bins_list[i][0]*bins_list[i][1]))\n",
    "        tab = np.append(tab, pierw)\n",
    "    zakres2 = len(points)\n",
    "    tab2 = np.array([])\n",
    "    for i in range(zakres):\n",
    "        n = bins_list[i][0]*bins_list[i][1]\n",
    "        tab2 = np.append(tab2, n)\n",
    "    tab3 = np.array([])\n",
    "    for i in range(zakres):\n",
    "        obsz = point_count_on_subregions(points, bins_list[i], x_lim, y_lim)[0].flatten()\n",
    "        mi = tab2[i] * np.sum((obsz*(obsz-1))/(zakres2*(zakres2 - 1)))\n",
    "        tab3 = np.append(tab3, mi)\n",
    "    return pd.DataFrame({\"BD\": tab, \"MI\": tab3})\n",
    "    #raise NotImplementedError()"
   ]
  },
  {
   "cell_type": "markdown",
   "id": "a4717de4-5c60-4edd-88a9-6c1a296da5e8",
   "metadata": {
    "deletable": false,
    "editable": false,
    "nbgrader": {
     "cell_type": "markdown",
     "checksum": "c90b85842cfa4154ea4611fb0f28c47f",
     "grade": false,
     "grade_id": "cell-8faafe8175d68f1e",
     "locked": true,
     "schema_version": 3,
     "solution": false,
     "task": false
    },
    "tags": []
   },
   "source": [
    "#### b) Wygenerowanie danych"
   ]
  },
  {
   "cell_type": "code",
   "execution_count": 56,
   "id": "684018bf-b940-4b7d-b370-6cb84f951028",
   "metadata": {
    "deletable": false,
    "nbgrader": {
     "cell_type": "code",
     "checksum": "594f8732883b8a014c7091745a616f02",
     "grade": true,
     "grade_id": "cell-10530e4bdc225d2e",
     "locked": false,
     "points": 3,
     "schema_version": 3,
     "solution": true,
     "task": false
    },
    "tags": []
   },
   "outputs": [],
   "source": [
    "# YOUR CODE HERE\n",
    "lista = []\n",
    "lista2 = []\n",
    "for i in range(39):\n",
    "    lista = [i+2, i+2]\n",
    "    lista2.append(lista)\n",
    "mHP = morishita_plot_data(HP, lista2, [0, 10], [0, 10])\n",
    "mM = morishita_plot_data(M, lista2, [0, 10], [0, 10])\n",
    "mR = morishita_plot_data(R, lista2, [0, 10], [0, 10])\n",
    "#raise NotImplementedError()"
   ]
  },
  {
   "cell_type": "markdown",
   "id": "93b23413-4913-4792-9232-179b65824458",
   "metadata": {
    "deletable": false,
    "editable": false,
    "nbgrader": {
     "cell_type": "markdown",
     "checksum": "797513cd9bd880f127ce704682035483",
     "grade": false,
     "grade_id": "cell-6278fccf5c8254be",
     "locked": true,
     "schema_version": 3,
     "solution": false,
     "task": false
    },
    "tags": []
   },
   "source": [
    "#### c) Wizualizacja"
   ]
  },
  {
   "cell_type": "code",
   "execution_count": 57,
   "id": "40328148-42ac-443f-a33e-acf562aa69f9",
   "metadata": {
    "deletable": false,
    "nbgrader": {
     "cell_type": "code",
     "checksum": "3dcec6c0d7d57fa71c549bdf8f7fceec",
     "grade": true,
     "grade_id": "cell-6c54b48d31e662da",
     "locked": false,
     "points": 7,
     "schema_version": 3,
     "solution": true,
     "task": false
    },
    "tags": []
   },
   "outputs": [
    {
     "data": {
      "text/plain": [
       "Text(0.5, 1.0, 'mR')"
      ]
     },
     "execution_count": 57,
     "metadata": {},
     "output_type": "execute_result"
    },
    {
     "data": {
      "image/png": "[encoded data removed]",
      "text/plain": [
       "<Figure size 2000x1000 with 6 Axes>"
      ]
     },
     "metadata": {},
     "output_type": "display_data"
    }
   ],
   "source": [
    "# YOUR CODE HERE\n",
    "fig, axs = plt.subplots(2,3, figsize = (20,10))\n",
    "axs[0,0].scatter(HP['X'],HP['Y'], s = 1)\n",
    "axs[0,0].set_xlim([0,10])\n",
    "axs[0,0].set_ylim([0,10])\n",
    "axs[0,0].axis('square')\n",
    "axs[0,0].set_xlabel('X')\n",
    "axs[0,0].set_ylabel('Y')\n",
    "axs[0,0].set_title('HP')\n",
    "\n",
    "axs[0,1].scatter(M['X'],M['Y'], s = 1)\n",
    "axs[0,1].set_xlim([0,10])\n",
    "axs[0,1].set_ylim([0,10])\n",
    "axs[0,1].axis('square')\n",
    "axs[0,1].set_xlabel('X')\n",
    "axs[0,1].set_ylabel('Y')\n",
    "axs[0,1].set_title('M')\n",
    "\n",
    "axs[0,2].scatter(R['X'],R['Y'], s = 1)\n",
    "axs[0,2].set_xlim([0,10])\n",
    "axs[0,2].set_ylim([0,10])\n",
    "axs[0,2].axis('square')\n",
    "axs[0,2].set_xlabel('X')\n",
    "axs[0,2].set_ylabel('Y')\n",
    "axs[0,2].set_title('HP')\n",
    "\n",
    "axs[1,0].scatter(mHP['BD'],mHP['MI'], s = 2)\n",
    "axs[1,0].set_xlabel('BD')\n",
    "axs[1,0].set_ylabel('MI')\n",
    "axs[1,0].set_title('mHP')\n",
    "\n",
    "axs[1,1].scatter(mM['BD'],mM['MI'], s = 2)\n",
    "axs[1,1].set_xlabel('BD')\n",
    "axs[1,1].set_ylabel('MI')\n",
    "axs[1,1].set_title('mM')\n",
    "\n",
    "axs[1,2].scatter(mR['BD'],mR['MI'], s = 2)\n",
    "axs[1,2].set_xlabel('BD')\n",
    "axs[1,2].set_ylabel('MI')\n",
    "axs[1,2].set_title('mR')\n",
    "#raise NotImplementedError()"
   ]
  },
  {
   "cell_type": "markdown",
   "id": "8eb8c0a3-36c4-4eee-a0a3-82f5f93008c5",
   "metadata": {
    "deletable": false,
    "editable": false,
    "nbgrader": {
     "cell_type": "markdown",
     "checksum": "eb8b82d51aa1a5aa61415777f2939cd5",
     "grade": false,
     "grade_id": "cell-46f87024c5253ba3",
     "locked": true,
     "schema_version": 3,
     "solution": false,
     "task": false
    },
    "tags": []
   },
   "source": [
    "### Zadanie 2: Wykres Fry (20 pkt)\n",
    "\n",
    "Przygotuj funkcję `fry_plot_data()`, która będzie generować dane niezbędne do wykonania wykresu Morishity.\n",
    "\n",
    "Następnie wykorzystaj przygotowaną funkcję do wygnenerowania danych dla wszystkich przygotowanych rozkładów punktów. \n",
    "\n",
    "Przedstaw wyniki analizy graficznie w postaci wykresów punktowych zestawionych z rozkładami punktów na podstawie których zostały wykonane. Zestaw wyniki na pojedynczej figurze (siatka wykresów 2x3). Umieść analizowane rozkłady punktów w górnym wierszu, a wykresy Fry w dolnym wierszu figury.\n",
    "\n",
    "Algorytm postępowania: <br/>\n",
    "Traktując kolejno każdy punkt analizowanego rozkładu jako początek układu współrzędnych zapisujemy współrzędne pozostałych punktów względem niego.\n",
    "Rezultatem jest zbiór współrzędnych $n(n-1)$ punktów, gdzie $n$ to liczba punktów w analizowanym rozkładzie."
   ]
  },
  {
   "cell_type": "markdown",
   "id": "bb71dfcb-8675-4dc3-bc86-0cbbb86c9d6e",
   "metadata": {
    "deletable": false,
    "editable": false,
    "nbgrader": {
     "cell_type": "markdown",
     "checksum": "57120b85d632c43b08cf4d21fca7d8d9",
     "grade": false,
     "grade_id": "cell-b572214484a8c02e",
     "locked": true,
     "schema_version": 3,
     "solution": false,
     "task": false
    },
    "tags": []
   },
   "source": [
    "#### a) Przygotowanie funkcji"
   ]
  },
  {
   "cell_type": "code",
   "execution_count": null,
   "id": "13e653bc-c56b-42d8-95a5-3d5ac5b8eeff",
   "metadata": {
    "deletable": false,
    "nbgrader": {
     "cell_type": "code",
     "checksum": "ff560debe4309d546d23a323e66b735f",
     "grade": true,
     "grade_id": "cell-2f066333ab586e29",
     "locked": false,
     "points": 10,
     "schema_version": 3,
     "solution": true,
     "task": false
    },
    "tags": []
   },
   "outputs": [],
   "source": [
    "def fry_plot_data(points):\n",
    "    \"\"\"\n",
    "    Parameters\n",
    "    -------\n",
    "    points: DataFrame\n",
    "        Tablica zawierająca dwie kolumny ze współrzędnymi punktów opisane jako \"X\" i \"Y\".\n",
    "    \n",
    "    Returns\n",
    "    -------\n",
    "    fry_points: DataFrame\n",
    "        Tablica zawierająca dwie kolumny ze współrzędnymi punktów opisane jako \"X\" i \"Y\".\n",
    "    \"\"\"    \n",
    "    # YOUR CODE HERE\n",
    "    raise NotImplementedError()"
   ]
  },
  {
   "cell_type": "markdown",
   "id": "f853e0f4-8b60-4773-956e-ba988fc22cb1",
   "metadata": {
    "deletable": false,
    "editable": false,
    "nbgrader": {
     "cell_type": "markdown",
     "checksum": "412d5136ff6cf71a761727328eb9401a",
     "grade": false,
     "grade_id": "cell-3912a59c00ac417b",
     "locked": true,
     "schema_version": 3,
     "solution": false,
     "task": false
    },
    "tags": []
   },
   "source": [
    "#### b) Wygenerowanie danych"
   ]
  },
  {
   "cell_type": "code",
   "execution_count": null,
   "id": "a7c70431-2637-4377-96d0-a6d7eb27ad7e",
   "metadata": {
    "deletable": false,
    "nbgrader": {
     "cell_type": "code",
     "checksum": "88c21a54a88b10f5eb5958cd81f2bb84",
     "grade": true,
     "grade_id": "cell-a815b45ab15cc87c",
     "locked": false,
     "points": 3,
     "schema_version": 3,
     "solution": true,
     "task": false
    },
    "tags": []
   },
   "outputs": [],
   "source": [
    "# YOUR CODE HERE\n",
    "raise NotImplementedError()"
   ]
  },
  {
   "cell_type": "markdown",
   "id": "53107651-661d-49a2-bca8-c21e26af159a",
   "metadata": {
    "deletable": false,
    "editable": false,
    "nbgrader": {
     "cell_type": "markdown",
     "checksum": "6e486e846d94dd966afc86fea01bf5dc",
     "grade": false,
     "grade_id": "cell-668e7d0c7f7eb4ff",
     "locked": true,
     "schema_version": 3,
     "solution": false,
     "task": false
    },
    "tags": []
   },
   "source": [
    "#### c) Wizualizacja"
   ]
  },
  {
   "cell_type": "code",
   "execution_count": null,
   "id": "1c16ffc6-400a-4fd3-806d-d38ebf8eca38",
   "metadata": {
    "deletable": false,
    "nbgrader": {
     "cell_type": "code",
     "checksum": "01628c1c083bcfb0d3c7bbe893aa40ea",
     "grade": true,
     "grade_id": "cell-e0d3fadfd4e76d87",
     "locked": false,
     "points": 7,
     "schema_version": 3,
     "solution": true,
     "task": false
    },
    "tags": []
   },
   "outputs": [],
   "source": [
    "# YOUR CODE HERE\n",
    "raise NotImplementedError()"
   ]
  }
 ],
 "metadata": {
  "kernelspec": {
   "display_name": "Python 3 (ipykernel)",
   "language": "python",
   "name": "python3"
  },
  "language_info": {
   "codemirror_mode": {
    "name": "ipython",
    "version": 3
   },
   "file_extension": ".py",
   "mimetype": "text/x-python",
   "name": "python",
   "nbconvert_exporter": "python",
   "pygments_lexer": "ipython3",
   "version": "3.10.8"
  }
 },
 "nbformat": 4,
 "nbformat_minor": 5
}
